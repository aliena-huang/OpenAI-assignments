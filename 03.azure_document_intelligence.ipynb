{
 "cells": [
  {
   "cell_type": "code",
   "execution_count": 1,
   "metadata": {},
   "outputs": [
    {
     "data": {
      "text/plain": [
       "False"
      ]
     },
     "execution_count": 1,
     "metadata": {},
     "output_type": "execute_result"
    }
   ],
   "source": [
    "from dotenv import load_dotenv\n",
    "\n",
    "load_dotenv()\n",
    "import os"
   ]
  },
  {
   "cell_type": "code",
   "execution_count": null,
   "metadata": {},
   "outputs": [],
   "source": [
    "def display_image(filepath):\n",
    "    from IPython.display import Image\n",
    "    return Image(filename=filepath)"
   ]
  },
  {
   "cell_type": "markdown",
   "metadata": {},
   "source": [
    "Read"
   ]
  },
  {
   "cell_type": "code",
   "execution_count": null,
   "metadata": {},
   "outputs": [],
   "source": [
    "def format_bounding_region(bounding_regions):\n",
    "    if not bounding_regions:\n",
    "        return \"N/A\"\n",
    "    return \",\".join(\"Page #{}:{}\".format(region.page_number,format_polygon(region.polygon)) for region in bounding_regions)\n",
    "\n",
    "def format_polygon(ploygon):\n",
    "    if not polygon:\n",
    "        return \"N/A\"\n",
    "    return \",\".join([\"[{},{}]\".format(p.x,p.y) for p in polygon])\n",
    "\n",
    "def analyze_read():\n",
    "    path_to_sample_documents=\"./sample_forms/forms/Form_1.jpg\"\n",
    "\n",
    "    from azure.core.credentials import AzureKeyCredential\n",
    "    from azure.ai.formrecognizer import DocumentAnalysisClient\n",
    "\n",
    "    endpoint=os.environ[\"https://alienah.cognitiveservices.azure.com/\"]\n",
    "    key=os.environ[\"1b68ea1932014488879d0fd51ff3cf06\"]\n",
    "\n",
    "    document_analysis_client=DocumentAnalysisClient( \n",
    "        endpoint=endpoint,credential=AzureKeyCredential(key)\n",
    "    )\n",
    "\n",
    "    with open(path_to_sample_documents,\"rb\") as f:\n",
    "        poller=document_analysis_client.begin_analyze_document(\n",
    "            \"prebuilt-read\",document=f\n",
    "        )\n",
    "    result=poller.result()\n",
    "\n",
    "    print(\"----Languages detected in the document----\")"
   ]
  },
  {
   "cell_type": "code",
   "execution_count": null,
   "metadata": {},
   "outputs": [],
   "source": [
    "from table_idx, table in enumerate(result.tables):\n",
    "    print(\n",
    "        \"Table # {} has {} rows and {} columns\".format(\n",
    "            table_idx,table.row_count,table.column_count\n",
    "        )\n",
    "    )\n",
    "    for region in table.bouding_regions:\n",
    "        print(\n",
    "            \"Table # {}\"\n",
    "        )"
   ]
  },
  {
   "cell_type": "code",
   "execution_count": null,
   "metadata": {},
   "outputs": [],
   "source": [
    "path_to_sample_documents=\"./sample_forms/receipt/contoso-allione.jpg\"\n",
    "\n",
    "from azure.core.credentials import AzureKeyCredential\n",
    "from azure.ai.formrecognizer import DocumentAnalysisClient\n",
    "\n",
    "endpoint=os.environ[\"\"]"
   ]
  }
 ],
 "metadata": {
  "kernelspec": {
   "display_name": "azure",
   "language": "python",
   "name": "python3"
  },
  "language_info": {
   "codemirror_mode": {
    "name": "ipython",
    "version": 3
   },
   "file_extension": ".py",
   "mimetype": "text/x-python",
   "name": "python",
   "nbconvert_exporter": "python",
   "pygments_lexer": "ipython3",
   "version": "3.9.18"
  },
  "orig_nbformat": 4
 },
 "nbformat": 4,
 "nbformat_minor": 2
}
